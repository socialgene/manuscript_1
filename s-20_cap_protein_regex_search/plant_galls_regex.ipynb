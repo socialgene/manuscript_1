{
 "cells": [
  {
   "cell_type": "markdown",
   "metadata": {},
   "source": [
    "In https://www.biorxiv.org/content/10.1101/2024.01.06.574462v1\n",
    "Hirano et al. show that CAP peptides might play a role in the formation of at least some plant galls. \n",
    "On multiple sequence alignment they found that CAP sequences from insect and plant host had highly conserveed 6 AA and 22 AA regions (designated CAP-p6 and CAP-p22).\n",
    "\n",
    "\n",
    "In this notebook I show a quick example of using regex within Neo4j to find these conserveed residues within protein sequences. I also show the time difference between a search that first finds proteins annotated by PFAM's \"PF00188\" (Cysteine-rich secretory protein family) HMM model then performs the regex filter dramatically speeds up the search compared to the regex filter alone. \n",
    "\n",
    "Lastly, antiSMASH regions containing CAP proteins are exported into a clustermap.js plot.\n",
    "\n",
    "This is all done with a connection to the SocialGene RefSeq database.\n"
   ]
  },
  {
   "cell_type": "code",
   "execution_count": 4,
   "metadata": {},
   "outputs": [],
   "source": [
    "from socialgene.neo4j.neo4j import GraphDriver \n",
    "from socialgene.config import env_vars\n",
    "from socialgene.base.socialgene import SocialGene\n",
    "from socialgene.clustermap.serialize import SerializeToClustermap\n",
    "from socialgene.search.hmmer import SearchDomains\n",
    "from pathlib import Path\n",
    "import pandas as pd\n",
    "env_vars[\"NEO4J_URI\"] = \"bolt://localhost:7687\""
   ]
  },
  {
   "cell_type": "code",
   "execution_count": 5,
   "metadata": {},
   "outputs": [
    {
     "name": "stdout",
     "output_type": "stream",
     "text": [
      "CPU times: user 2.56 ms, sys: 368 µs, total: 2.93 ms\n",
      "Wall time: 53.1 ms\n"
     ]
    },
    {
     "data": {
      "text/html": [
       "<div>\n",
       "<style scoped>\n",
       "    .dataframe tbody tr th:only-of-type {\n",
       "        vertical-align: middle;\n",
       "    }\n",
       "\n",
       "    .dataframe tbody tr th {\n",
       "        vertical-align: top;\n",
       "    }\n",
       "\n",
       "    .dataframe thead th {\n",
       "        text-align: right;\n",
       "    }\n",
       "</style>\n",
       "<table border=\"1\" class=\"dataframe\">\n",
       "  <thead>\n",
       "    <tr style=\"text-align: right;\">\n",
       "      <th></th>\n",
       "      <th>assembly_count</th>\n",
       "    </tr>\n",
       "  </thead>\n",
       "  <tbody>\n",
       "    <tr>\n",
       "      <th>0</th>\n",
       "      <td>343381</td>\n",
       "    </tr>\n",
       "  </tbody>\n",
       "</table>\n",
       "</div>"
      ],
      "text/plain": [
       "   assembly_count\n",
       "0          343381"
      ]
     },
     "execution_count": 5,
     "metadata": {},
     "output_type": "execute_result"
    }
   ],
   "source": [
    "%%time\n",
    "# Just showing that the connection is to the database containing 343,381 RefSeq genomes\n",
    "with GraphDriver() as db:\n",
    "    results = db.run(\n",
    "        \"\"\"\n",
    "            MATCH (a1:assembly)\n",
    "            WHERE a1.uid STARTS WITH \"GCF\"\n",
    "            RETURN count(a1) as assembly_count\n",
    "        \"\"\"\n",
    "    ).to_df()\n",
    "\n",
    "results"
   ]
  },
  {
   "cell_type": "code",
   "execution_count": 6,
   "metadata": {},
   "outputs": [
    {
     "name": "stdout",
     "output_type": "stream",
     "text": [
      "CPU times: user 3.02 ms, sys: 0 ns, total: 3.02 ms\n",
      "Wall time: 1.19 s\n"
     ]
    },
    {
     "data": {
      "text/html": [
       "<div>\n",
       "<style scoped>\n",
       "    .dataframe tbody tr th:only-of-type {\n",
       "        vertical-align: middle;\n",
       "    }\n",
       "\n",
       "    .dataframe tbody tr th {\n",
       "        vertical-align: top;\n",
       "    }\n",
       "\n",
       "    .dataframe thead th {\n",
       "        text-align: right;\n",
       "    }\n",
       "</style>\n",
       "<table border=\"1\" class=\"dataframe\">\n",
       "  <thead>\n",
       "    <tr style=\"text-align: right;\">\n",
       "      <th></th>\n",
       "      <th>assembly_count</th>\n",
       "    </tr>\n",
       "  </thead>\n",
       "  <tbody>\n",
       "    <tr>\n",
       "      <th>0</th>\n",
       "      <td>135595</td>\n",
       "    </tr>\n",
       "  </tbody>\n",
       "</table>\n",
       "</div>"
      ],
      "text/plain": [
       "   assembly_count\n",
       "0          135595"
      ]
     },
     "execution_count": 6,
     "metadata": {},
     "output_type": "execute_result"
    }
   ],
   "source": [
    "%%time\n",
    "with GraphDriver() as db:\n",
    "    results = db.run(\n",
    "        \"\"\"\n",
    "            MATCH (n:pfam)<-[:SOURCE_DB]-(h1:hmm)\n",
    "            WHERE n.acc starts with \"PF00188\"\n",
    "            MATCH (h1)-[:ANNOTATES]->(p1:protein)<-[:ENCODES]-(n1:nucleotide)-[:ASSEMBLES_TO]-(a1:assembly)\n",
    "            RETURN count(DISTINCT a1) as assembly_count\n",
    "        \"\"\"\n",
    "    ).to_df()\n",
    "results\n"
   ]
  },
  {
   "cell_type": "code",
   "execution_count": 13,
   "metadata": {},
   "outputs": [
    {
     "name": "stdout",
     "output_type": "stream",
     "text": [
      "CPU times: user 3.1 ms, sys: 0 ns, total: 3.1 ms\n",
      "Wall time: 2.65 s\n"
     ]
    },
    {
     "data": {
      "text/html": [
       "<div>\n",
       "<style scoped>\n",
       "    .dataframe tbody tr th:only-of-type {\n",
       "        vertical-align: middle;\n",
       "    }\n",
       "\n",
       "    .dataframe tbody tr th {\n",
       "        vertical-align: top;\n",
       "    }\n",
       "\n",
       "    .dataframe thead th {\n",
       "        text-align: right;\n",
       "    }\n",
       "</style>\n",
       "<table border=\"1\" class=\"dataframe\">\n",
       "  <thead>\n",
       "    <tr style=\"text-align: right;\">\n",
       "      <th></th>\n",
       "      <th>assembly_count</th>\n",
       "    </tr>\n",
       "  </thead>\n",
       "  <tbody>\n",
       "    <tr>\n",
       "      <th>0</th>\n",
       "      <td>5593</td>\n",
       "    </tr>\n",
       "  </tbody>\n",
       "</table>\n",
       "</div>"
      ],
      "text/plain": [
       "   assembly_count\n",
       "0            5593"
      ]
     },
     "execution_count": 13,
     "metadata": {},
     "output_type": "execute_result"
    }
   ],
   "source": [
    "%%time\n",
    "with GraphDriver() as db:\n",
    "    results = db.run(\n",
    "        \"\"\"\n",
    "            MATCH (n:pfam)<-[:SOURCE_DB]-(h1:hmm)\n",
    "            WHERE n.acc starts with \"PF00188\"\n",
    "            MATCH (h1)-[:ANNOTATES]->(p1:protein)<-[e1:ENCODES]-(n1:nucleotide)-[:ASSEMBLES_TO]-(a1:assembly)\n",
    "            WHERE not e1.antismash_region is null\n",
    "            RETURN count(DISTINCT a1) as assembly_count\n",
    "        \"\"\"\n",
    "    ).to_df()\n",
    "results\n"
   ]
  },
  {
   "cell_type": "code",
   "execution_count": 7,
   "metadata": {},
   "outputs": [
    {
     "name": "stdout",
     "output_type": "stream",
     "text": [
      "CPU times: user 2.46 ms, sys: 45 µs, total: 2.51 ms\n",
      "Wall time: 898 ms\n"
     ]
    },
    {
     "data": {
      "text/html": [
       "<div>\n",
       "<style scoped>\n",
       "    .dataframe tbody tr th:only-of-type {\n",
       "        vertical-align: middle;\n",
       "    }\n",
       "\n",
       "    .dataframe tbody tr th {\n",
       "        vertical-align: top;\n",
       "    }\n",
       "\n",
       "    .dataframe thead th {\n",
       "        text-align: right;\n",
       "    }\n",
       "</style>\n",
       "<table border=\"1\" class=\"dataframe\">\n",
       "  <thead>\n",
       "    <tr style=\"text-align: right;\">\n",
       "      <th></th>\n",
       "      <th>assembly_count</th>\n",
       "    </tr>\n",
       "  </thead>\n",
       "  <tbody>\n",
       "    <tr>\n",
       "      <th>0</th>\n",
       "      <td>2337</td>\n",
       "    </tr>\n",
       "  </tbody>\n",
       "</table>\n",
       "</div>"
      ],
      "text/plain": [
       "   assembly_count\n",
       "0            2337"
      ]
     },
     "execution_count": 7,
     "metadata": {},
     "output_type": "execute_result"
    }
   ],
   "source": [
    "%%time\n",
    "with GraphDriver() as db:\n",
    "    results = db.run(\n",
    "        \"\"\"\n",
    "            MATCH (n:pfam)<-[:SOURCE_DB]-(h1:hmm)\n",
    "            WHERE n.acc starts with \"PF00188\"\n",
    "            MATCH (h1)-[:ANNOTATES]->(p1:protein)<-[:ENCODES]-(n1:nucleotide)-[:ASSEMBLES_TO]-(a1:assembly)\n",
    "            WHERE p1.sequence =~ '.*[FY]TQ[IV]VW.*'\n",
    "            RETURN count(DISTINCT a1) as assembly_count\n",
    "        \"\"\"\n",
    "    ).to_df()\n",
    "results\n"
   ]
  },
  {
   "cell_type": "code",
   "execution_count": 8,
   "metadata": {},
   "outputs": [
    {
     "name": "stdout",
     "output_type": "stream",
     "text": [
      "CPU times: user 0 ns, sys: 3.32 ms, total: 3.32 ms\n",
      "Wall time: 881 ms\n"
     ]
    },
    {
     "data": {
      "text/html": [
       "<div>\n",
       "<style scoped>\n",
       "    .dataframe tbody tr th:only-of-type {\n",
       "        vertical-align: middle;\n",
       "    }\n",
       "\n",
       "    .dataframe tbody tr th {\n",
       "        vertical-align: top;\n",
       "    }\n",
       "\n",
       "    .dataframe thead th {\n",
       "        text-align: right;\n",
       "    }\n",
       "</style>\n",
       "<table border=\"1\" class=\"dataframe\">\n",
       "  <thead>\n",
       "    <tr style=\"text-align: right;\">\n",
       "      <th></th>\n",
       "      <th>assembly_count</th>\n",
       "    </tr>\n",
       "  </thead>\n",
       "  <tbody>\n",
       "    <tr>\n",
       "      <th>0</th>\n",
       "      <td>43</td>\n",
       "    </tr>\n",
       "  </tbody>\n",
       "</table>\n",
       "</div>"
      ],
      "text/plain": [
       "   assembly_count\n",
       "0              43"
      ]
     },
     "execution_count": 8,
     "metadata": {},
     "output_type": "execute_result"
    }
   ],
   "source": [
    "%%time\n",
    "with GraphDriver() as db:\n",
    "    results = db.run(\n",
    "        \"\"\"\n",
    "            MATCH (n:pfam)<-[:SOURCE_DB]-(h1:hmm)\n",
    "            WHERE n.acc starts with \"PF00188\"\n",
    "            MATCH (h1)-[:ANNOTATES]->(p1:protein)<-[e1:ENCODES]-(n1:nucleotide)-[:ASSEMBLES_TO]-(a1:assembly)\n",
    "            WHERE p1.sequence =~ '.*[FY]TQ[IV]VW.*' and not e1.antismash_region is null\n",
    "            RETURN count(DISTINCT a1) as assembly_count\n",
    "        \"\"\"\n",
    "    ).to_df()\n",
    "results\n"
   ]
  },
  {
   "cell_type": "markdown",
   "metadata": {},
   "source": [
    "Now pull all the genomic regions and make a clinker plot"
   ]
  },
  {
   "cell_type": "code",
   "execution_count": 9,
   "metadata": {},
   "outputs": [
    {
     "name": "stdout",
     "output_type": "stream",
     "text": [
      "CPU times: user 3.94 ms, sys: 1.35 ms, total: 5.29 ms\n",
      "Wall time: 959 ms\n"
     ]
    }
   ],
   "source": [
    "%%time\n",
    "with GraphDriver() as db:\n",
    "    df = db.run(\n",
    "        \"\"\"\n",
    "        MATCH (n:pfam)<-[:SOURCE_DB]-(h1:hmm)\n",
    "        WHERE n.acc starts with \"PF00188\"\n",
    "        MATCH (h1)-[:ANNOTATES]->(p1:protein)<-[e1:ENCODES]-(n1:nucleotide)-[:ASSEMBLES_TO]-(a1:assembly)\n",
    "        WHERE p1.sequence =~ '.*[FY]TQ[IV]VW.*' and not e1.antismash_region is null\n",
    "        MATCH (:protein)<-[e2:ENCODES]-(n1)\n",
    "        WHERE e2.antismash_region = e1.antismash_region\n",
    "        RETURN n1.uid as uid, e1.antismash_region, min(e2.start) as start, max(e2.end) as end, collect(DISTINCT p1.uid) as cap_protein_uids\n",
    "           \n",
    "        \"\"\"\n",
    "    ).to_df()"
   ]
  },
  {
   "cell_type": "code",
   "execution_count": 7,
   "metadata": {},
   "outputs": [
    {
     "name": "stdout",
     "output_type": "stream",
     "text": [
      "CPU times: user 3 µs, sys: 0 ns, total: 3 µs\n",
      "Wall time: 4.77 µs\n"
     ]
    }
   ],
   "source": [
    "%time\n",
    "sg=SocialGene()\n",
    "for line in df.iterrows():\n",
    "    sg.fill_given_locus_range(locus_uid=line[1].uid, start=float(line[1].start), end=float(line[1].end))\n",
    "    "
   ]
  },
  {
   "cell_type": "code",
   "execution_count": 8,
   "metadata": {},
   "outputs": [],
   "source": [
    "for assembly in sg.assemblies.values():\n",
    "    for locus in assembly.loci.values():\n",
    "            locus.add_bgcs_by_feature(features=locus.features)"
   ]
  },
  {
   "cell_type": "code",
   "execution_count": 9,
   "metadata": {},
   "outputs": [],
   "source": [
    "# Not calculating any links\n",
    "link_df = pd.DataFrame(columns=['query_feature', 'target_feature'])\n",
    "group_df = pd.DataFrame(columns=['query_feature', 'target_feature'])\n",
    "\n",
    "z = SerializeToClustermap(\n",
    "        sg_object=sg,\n",
    "        sorted_bgcs=sg.assemblies.values(),\n",
    "        link_df=link_df,\n",
    "        group_df=group_df,\n",
    "    )"
   ]
  },
  {
   "cell_type": "markdown",
   "metadata": {},
   "source": [
    "Get the genes that were discovered as CAP proteins in the database search, so they can be highlighted in the clustermap plot"
   ]
  },
  {
   "cell_type": "code",
   "execution_count": 10,
   "metadata": {},
   "outputs": [],
   "source": [
    "caps = []\n",
    "cap_protein_uids = {x for xs in df.cap_protein_uids.to_list() for x in xs}\n",
    "for k1,v1 in sg.assemblies.items():\n",
    "    for k2,v2 in v1.loci.items():\n",
    "        for feature in v2.features:\n",
    "            if feature.protein.uid in cap_protein_uids:\n",
    "                caps.append(feature)"
   ]
  },
  {
   "cell_type": "code",
   "execution_count": 11,
   "metadata": {},
   "outputs": [
    {
     "data": {
      "text/html": [
       "<pre style=\"white-space:pre;overflow-x:auto;line-height:normal;font-family:Menlo,'DejaVu Sans Mono',consolas,'Courier New',monospace\"><span style=\"color: #7fbfbf; text-decoration-color: #7fbfbf\">2024-07-16 18:20:06 </span><span style=\"color: #000080; text-decoration-color: #000080\">INFO    </span> Writing clustermap.js output to: clustermap/data.json                                                    <a href=\"file:///home/chase/Documents/github/kwan_lab/socialgene/sgpy/socialgene/clustermap/serialize.py\" target=\"_blank\"><span style=\"color: #7f7f7f; text-decoration-color: #7f7f7f\">serialize.py</span></a><span style=\"color: #7f7f7f; text-decoration-color: #7f7f7f\">:</span><a href=\"file:///home/chase/Documents/github/kwan_lab/socialgene/sgpy/socialgene/clustermap/serialize.py#140\" target=\"_blank\"><span style=\"color: #7f7f7f; text-decoration-color: #7f7f7f\">140</span></a>\n",
       "</pre>\n"
      ],
      "text/plain": [
       "\u001b[2;36m2024-07-16 18:20:06\u001b[0m\u001b[2;36m \u001b[0m\u001b[34mINFO    \u001b[0m Writing clustermap.js output to: clustermap/data.json                                                    \u001b]8;id=847870;file:///home/chase/Documents/github/kwan_lab/socialgene/sgpy/socialgene/clustermap/serialize.py\u001b\\\u001b[2mserialize.py\u001b[0m\u001b]8;;\u001b\\\u001b[2m:\u001b[0m\u001b]8;id=302671;file:///home/chase/Documents/github/kwan_lab/socialgene/sgpy/socialgene/clustermap/serialize.py#140\u001b\\\u001b[2m140\u001b[0m\u001b]8;;\u001b\\\n"
      ]
     },
     "metadata": {},
     "output_type": "display_data"
    },
    {
     "data": {
      "text/html": [
       "<pre style=\"white-space:pre;overflow-x:auto;line-height:normal;font-family:Menlo,'DejaVu Sans Mono',consolas,'Courier New',monospace\"><span style=\"color: #7fbfbf; text-decoration-color: #7fbfbf\">                    </span><span style=\"color: #000080; text-decoration-color: #000080\">INFO    </span> Creating clustermap.js clusters                                                                           <a href=\"file:///home/chase/Documents/github/kwan_lab/socialgene/sgpy/socialgene/clustermap/serialize.py\" target=\"_blank\"><span style=\"color: #7f7f7f; text-decoration-color: #7f7f7f\">serialize.py</span></a><span style=\"color: #7f7f7f; text-decoration-color: #7f7f7f\">:</span><a href=\"file:///home/chase/Documents/github/kwan_lab/socialgene/sgpy/socialgene/clustermap/serialize.py#40\" target=\"_blank\"><span style=\"color: #7f7f7f; text-decoration-color: #7f7f7f\">40</span></a>\n",
       "</pre>\n"
      ],
      "text/plain": [
       "\u001b[2;36m                   \u001b[0m\u001b[2;36m \u001b[0m\u001b[34mINFO    \u001b[0m Creating clustermap.js clusters                                                                           \u001b]8;id=505813;file:///home/chase/Documents/github/kwan_lab/socialgene/sgpy/socialgene/clustermap/serialize.py\u001b\\\u001b[2mserialize.py\u001b[0m\u001b]8;;\u001b\\\u001b[2m:\u001b[0m\u001b]8;id=124651;file:///home/chase/Documents/github/kwan_lab/socialgene/sgpy/socialgene/clustermap/serialize.py#40\u001b\\\u001b[2m40\u001b[0m\u001b]8;;\u001b\\\n"
      ]
     },
     "metadata": {},
     "output_type": "display_data"
    },
    {
     "data": {
      "text/html": [
       "<pre style=\"white-space:pre;overflow-x:auto;line-height:normal;font-family:Menlo,'DejaVu Sans Mono',consolas,'Courier New',monospace\"><span style=\"color: #7fbfbf; text-decoration-color: #7fbfbf\">                    </span><span style=\"color: #000080; text-decoration-color: #000080\">INFO    </span> Creating clustermap.js links                                                                             <a href=\"file:///home/chase/Documents/github/kwan_lab/socialgene/sgpy/socialgene/clustermap/serialize.py\" target=\"_blank\"><span style=\"color: #7f7f7f; text-decoration-color: #7f7f7f\">serialize.py</span></a><span style=\"color: #7f7f7f; text-decoration-color: #7f7f7f\">:</span><a href=\"file:///home/chase/Documents/github/kwan_lab/socialgene/sgpy/socialgene/clustermap/serialize.py#117\" target=\"_blank\"><span style=\"color: #7f7f7f; text-decoration-color: #7f7f7f\">117</span></a>\n",
       "</pre>\n"
      ],
      "text/plain": [
       "\u001b[2;36m                   \u001b[0m\u001b[2;36m \u001b[0m\u001b[34mINFO    \u001b[0m Creating clustermap.js links                                                                             \u001b]8;id=680675;file:///home/chase/Documents/github/kwan_lab/socialgene/sgpy/socialgene/clustermap/serialize.py\u001b\\\u001b[2mserialize.py\u001b[0m\u001b]8;;\u001b\\\u001b[2m:\u001b[0m\u001b]8;id=894479;file:///home/chase/Documents/github/kwan_lab/socialgene/sgpy/socialgene/clustermap/serialize.py#117\u001b\\\u001b[2m117\u001b[0m\u001b]8;;\u001b\\\n"
      ]
     },
     "metadata": {},
     "output_type": "display_data"
    },
    {
     "data": {
      "text/html": [
       "<pre style=\"white-space:pre;overflow-x:auto;line-height:normal;font-family:Menlo,'DejaVu Sans Mono',consolas,'Courier New',monospace\"><span style=\"color: #7fbfbf; text-decoration-color: #7fbfbf\">                    </span><span style=\"color: #000080; text-decoration-color: #000080\">INFO    </span> Creating clustermap.js links                                                                              <a href=\"file:///home/chase/Documents/github/kwan_lab/socialgene/sgpy/socialgene/clustermap/serialize.py\" target=\"_blank\"><span style=\"color: #7f7f7f; text-decoration-color: #7f7f7f\">serialize.py</span></a><span style=\"color: #7f7f7f; text-decoration-color: #7f7f7f\">:</span><a href=\"file:///home/chase/Documents/github/kwan_lab/socialgene/sgpy/socialgene/clustermap/serialize.py#92\" target=\"_blank\"><span style=\"color: #7f7f7f; text-decoration-color: #7f7f7f\">92</span></a>\n",
       "</pre>\n"
      ],
      "text/plain": [
       "\u001b[2;36m                   \u001b[0m\u001b[2;36m \u001b[0m\u001b[34mINFO    \u001b[0m Creating clustermap.js links                                                                              \u001b]8;id=509076;file:///home/chase/Documents/github/kwan_lab/socialgene/sgpy/socialgene/clustermap/serialize.py\u001b\\\u001b[2mserialize.py\u001b[0m\u001b]8;;\u001b\\\u001b[2m:\u001b[0m\u001b]8;id=749538;file:///home/chase/Documents/github/kwan_lab/socialgene/sgpy/socialgene/clustermap/serialize.py#92\u001b\\\u001b[2m92\u001b[0m\u001b]8;;\u001b\\\n"
      ]
     },
     "metadata": {},
     "output_type": "display_data"
    }
   ],
   "source": [
    "group_df = pd.DataFrame({\n",
    "    'query_feature': [caps[0]] * len(caps),\n",
    "    'target_feature': caps\n",
    "})\n",
    "\n",
    "z = SerializeToClustermap(\n",
    "        sg_object=sg,\n",
    "        sorted_bgcs=sg.assemblies.values(),\n",
    "        link_df=link_df,\n",
    "        group_df=group_df,\n",
    "    )\n",
    "\n",
    "\n",
    "z.write(\"clustermap/data.json\")"
   ]
  }
 ],
 "metadata": {
  "kernelspec": {
   "display_name": "py312",
   "language": "python",
   "name": "python3"
  },
  "language_info": {
   "codemirror_mode": {
    "name": "ipython",
    "version": 3
   },
   "file_extension": ".py",
   "mimetype": "text/x-python",
   "name": "python",
   "nbconvert_exporter": "python",
   "pygments_lexer": "ipython3",
   "version": "3.12.2"
  }
 },
 "nbformat": 4,
 "nbformat_minor": 2
}
