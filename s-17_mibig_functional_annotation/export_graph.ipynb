{
 "cells": [
  {
   "cell_type": "code",
   "execution_count": 2,
   "metadata": {},
   "outputs": [],
   "source": [
    "from socialgene.neo4j.neo4j import GraphDriver # grab the the neo4j connection"
   ]
  },
  {
   "cell_type": "code",
   "execution_count": 6,
   "metadata": {},
   "outputs": [],
   "source": [
    "with GraphDriver() as db:\n",
    "    results1 = db.run(\n",
    "        \"\"\"\n",
    "            WITH '\n",
    "                  MATCH p=(:protein)<-[:ANNOTATES]-(:hmm)\n",
    "                  RETURN p\n",
    "                '\n",
    "                AS query\n",
    "            CALL apoc.export.graphml.query(query, \"import/hmm_protein.graphml\", {})\n",
    "            YIELD file, source, format, nodes, relationships, properties, time, rows, batchSize, batches, done, data\n",
    "            RETURN file, source, format, nodes, relationships, properties, time, rows, batchSize, batches, done, data;\n",
    "        \"\"\"\n",
    "    )"
   ]
  },
  {
   "cell_type": "markdown",
   "metadata": {},
   "source": [
    "An  interactive version of the exported graph is available from https://socialgene.github.io/mibigmap"
   ]
  }
 ],
 "metadata": {
  "kernelspec": {
   "display_name": "py312",
   "language": "python",
   "name": "python3"
  },
  "language_info": {
   "codemirror_mode": {
    "name": "ipython",
    "version": 3
   },
   "file_extension": ".py",
   "mimetype": "text/x-python",
   "name": "python",
   "nbconvert_exporter": "python",
   "pygments_lexer": "ipython3",
   "version": "3.12.2"
  }
 },
 "nbformat": 4,
 "nbformat_minor": 2
}
