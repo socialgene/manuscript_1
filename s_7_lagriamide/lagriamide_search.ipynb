{
 "cells": [
  {
   "cell_type": "code",
   "execution_count": null,
   "metadata": {},
   "outputs": [],
   "source": [
    "import pandas as pd\n",
    "from socialgene.clustermap.serialize import SerializeToClustermap\n",
    "from socialgene.cli.search.sea import search_bgc\n",
    "from socialgene.config import env_vars\n",
    "\n",
    "env_vars[\"NEO4J_URI\"] = \"bolt://localhost:7685\""
   ]
  },
  {
   "cell_type": "code",
   "execution_count": 9,
   "metadata": {},
   "outputs": [],
   "source": [
    "%%time\n",
    "search_object = search_bgc(\n",
    "                input=\"/home/chase/Documents/data/mibig/3_1/mibig_gbk_3.1/BGC0001646.gbk\",\n",
    "                hmm_dir=\"/home/chase/Documents/socialgene_data/v0_4_1/refseq/socialgene_per_run/hmm_cache\",\n",
    "                outpath_clinker=\"clustermap/data.json\",\n",
    "                use_neo4j_precalc=True,\n",
    "                assemblies_must_have_x_matches=0.6,\n",
    "                nucleotide_sequences_must_have_x_matches=0.6,\n",
    "                gene_clusters_must_have_x_matches=0.6,\n",
    "                break_bgc_on_gap_of=20000,\n",
    "                target_bgc_padding=10000,\n",
    "                max_domains_per_protein=3,\n",
    "                max_outdegree=300000,\n",
    "                max_query_proteins=10,\n",
    "                scatter=True,\n",
    "                locus_tag_bypass_list=None,\n",
    "                protein_id_bypass_list=None,\n",
    "                only_culture_collection=False,\n",
    "                frac=0.75,\n",
    "                run_async=False,\n",
    "                analyze_with=\"blastp\",\n",
    "                adaptive_padding=False,\n",
    "                blast_speed=\"sensitive\",\n",
    "            )"
   ]
  },
  {
   "cell_type": "code",
   "execution_count": null,
   "metadata": {},
   "outputs": [],
   "source": [
    "search_object"
   ]
  }
 ],
 "metadata": {
  "kernelspec": {
   "display_name": "py312",
   "language": "python",
   "name": "python3"
  },
  "language_info": {
   "codemirror_mode": {
    "name": "ipython",
    "version": 3
   },
   "file_extension": ".py",
   "mimetype": "text/x-python",
   "name": "python",
   "nbconvert_exporter": "python",
   "pygments_lexer": "ipython3",
   "version": "3.12.2"
  }
 },
 "nbformat": 4,
 "nbformat_minor": 2
}
