{
 "cells": [
  {
   "cell_type": "code",
   "execution_count": null,
   "metadata": {},
   "outputs": [],
   "source": [
    "import pickle\n",
    "import pandas as pd\n",
    "from pathlib import Path\n",
    "import gzip\n",
    "from plotnine import *\n",
    "from socialgene.clustermap.serialize import SerializeToClustermap\n",
    "from socialgene.neo4j.neo4j import GraphDriver # grab the the neo4j connection\n",
    "from socialgene.config import env_vars\n",
    "env_vars[\"NEO4J_URI\"] = \"bolt://localhost:7687\"\n",
    "\n",
    "pickle_path ='BGC0000946.pickle.gz'\n",
    "json_path = 'clinker.json'"
   ]
  },
  {
   "cell_type": "code",
   "execution_count": null,
   "metadata": {},
   "outputs": [],
   "source": [
    "# The pickle file is a serialized object that contains the search results from the SocialGene search engine results \n",
    "# from searching all of RefSeq for similar genetic regions to the BGC0000946 cluster.\n",
    "\n",
    "with gzip.open(pickle_path, 'rb') as f:\n",
    "    search_object = pickle.load(f)"
   ]
  },
  {
   "cell_type": "markdown",
   "metadata": {},
   "source": [
    "Making trees of each vibrioferrin BGC protein"
   ]
  },
  {
   "cell_type": "code",
   "execution_count": null,
   "metadata": {},
   "outputs": [],
   "source": [
    "filenames = set()\n",
    "for i in search_object.link_df.iterrows():\n",
    "    filename = f\"{i[1].query_feature.external_id}_{i[1].query_feature.description.replace(' ', '_')}.fasta\"\n",
    "    filenames.add(filename)\n",
    "    with open(Path(\"fasta_for_tree\", filename), \"a\") as h:\n",
    "        single_fasta_entry=f\">{i[1].target_feature.parent.external_id}_{i[1].target_feature.external_id}_{i[1].target_feature.start}\\n{i[1].target_feature.protein.sequence}\\n\"\n",
    "        h.write(single_fasta_entry)       \n",
    "        "
   ]
  },
  {
   "cell_type": "code",
   "execution_count": null,
   "metadata": {},
   "outputs": [],
   "source": [
    "import subprocess\n",
    "\n",
    "for filename in filenames:\n",
    "    with open(Path(\"align_for_tree\", filename.replace(\".fasta\", \".mafft_aln\")), \"a\") as h:\n",
    "        h.write(subprocess.run([\"mafft\",  \"--thread\", \"22\", \"--auto\", Path(\"fasta_for_tree\", filename)], capture_output=True).stdout.decode())\n"
   ]
  },
  {
   "cell_type": "code",
   "execution_count": null,
   "metadata": {},
   "outputs": [],
   "source": [
    "import subprocess\n",
    "\n",
    "for filename in filenames:\n",
    "    with open(Path(\"trees\", filename.replace(\".fasta\", \".newick\")), \"a\") as h:\n",
    "        h.write(subprocess.run([\"FastTree\",  Path(\"align_for_tree\", filename.replace(\".fasta\", \".mafft_aln\"))], capture_output=True).stdout.decode())\n"
   ]
  },
  {
   "cell_type": "code",
   "execution_count": null,
   "metadata": {},
   "outputs": [],
   "source": [
    "names= []\n",
    "for i in search_object.link_df.iterrows():\n",
    "        names.append(f\"{i[1].target_feature.parent.external_id}_{i[1].target_feature.external_id}_{i[1].target_feature.start}\")"
   ]
  },
  {
   "cell_type": "code",
   "execution_count": null,
   "metadata": {},
   "outputs": [],
   "source": [
    "for filename in filenames:\n",
    "    with open(Path(\"trees\", filename.replace(\".fasta\", \".newick\")), \"r\") as h:\n",
    "        tree=h.read()\n",
    "        for i in names:\n",
    "            if \"_\".join(i.split('_')[0:2]) in df.target_nucleotide_sequence.to_list():\n",
    "                tree = tree.replace(i, df.loc[df.target_nucleotide_sequence == \"_\".join(i.split('_')[0:2]), \"genus\"].to_list()[0])\n",
    "        with open(Path(\"trees\", f'genus_{filename.replace(\".fasta\", \".newick\")}'), \"w\") as h2:\n",
    "            h2.write(tree)\n",
    "            "
   ]
  },
  {
   "cell_type": "code",
   "execution_count": null,
   "metadata": {},
   "outputs": [],
   "source": []
  }
 ],
 "metadata": {
  "language_info": {
   "name": "python"
  }
 },
 "nbformat": 4,
 "nbformat_minor": 2
}
