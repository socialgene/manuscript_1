{
 "cells": [
  {
   "cell_type": "code",
   "execution_count": 1,
   "metadata": {},
   "outputs": [],
   "source": [
    "\n",
    "import pandas as pd\n",
    "from pathlib import Path\n",
    "import gzip\n",
    "from plotnine import *\n",
    "from socialgene.base.socialgene import SocialGene\n",
    "from socialgene.neo4j.neo4j import GraphDriver \n",
    "from socialgene.config import env_vars\n",
    "env_vars[\"NEO4J_URI\"] = \"bolt://localhost:7687\"\n"
   ]
  },
  {
   "cell_type": "code",
   "execution_count": 2,
   "metadata": {},
   "outputs": [
    {
     "data": {
      "text/html": [
       "<pre style=\"white-space:pre;overflow-x:auto;line-height:normal;font-family:Menlo,'DejaVu Sans Mono',consolas,'Courier New',monospace\"><span style=\"color: #7fbfbf; text-decoration-color: #7fbfbf\">2024-06-27 18:01:23 </span><span style=\"color: #000080; text-decoration-color: #000080\">INFO    </span> Connected to Neo4j database at bolt:<span style=\"color: #800080; text-decoration-color: #800080\">//</span><span style=\"color: #ff00ff; text-decoration-color: #ff00ff\">localhost</span>:<span style=\"color: #008080; text-decoration-color: #008080; font-weight: bold\">7687</span>                                                          <a href=\"file:///home/chase/Documents/github/kwan_lab/socialgene/sgpy/socialgene/neo4j/neo4j.py\" target=\"_blank\"><span style=\"color: #7f7f7f; text-decoration-color: #7f7f7f\">neo4j.py</span></a><span style=\"color: #7f7f7f; text-decoration-color: #7f7f7f\">:</span><a href=\"file:///home/chase/Documents/github/kwan_lab/socialgene/sgpy/socialgene/neo4j/neo4j.py#61\" target=\"_blank\"><span style=\"color: #7f7f7f; text-decoration-color: #7f7f7f\">61</span></a>\n",
       "</pre>\n"
      ],
      "text/plain": [
       "\u001b[2;36m2024-06-27 18:01:23\u001b[0m\u001b[2;36m \u001b[0m\u001b[34mINFO    \u001b[0m Connected to Neo4j database at bolt:\u001b[35m/\u001b[0m\u001b[35m/\u001b[0m\u001b[95mlocalhost\u001b[0m:\u001b[1;36m7687\u001b[0m                                                          \u001b]8;id=253040;file:///home/chase/Documents/github/kwan_lab/socialgene/sgpy/socialgene/neo4j/neo4j.py\u001b\\\u001b[2mneo4j.py\u001b[0m\u001b]8;;\u001b\\\u001b[2m:\u001b[0m\u001b]8;id=700363;file:///home/chase/Documents/github/kwan_lab/socialgene/sgpy/socialgene/neo4j/neo4j.py#61\u001b\\\u001b[2m61\u001b[0m\u001b]8;;\u001b\\\n"
      ]
     },
     "metadata": {},
     "output_type": "display_data"
    },
    {
     "name": "stdout",
     "output_type": "stream",
     "text": [
      "304330794 proteins in the database\n",
      "CPU times: user 9.67 ms, sys: 95 µs, total: 9.76 ms\n",
      "Wall time: 145 ms\n"
     ]
    }
   ],
   "source": [
    "%%time\n",
    "with GraphDriver() as db:\n",
    "    x= db.run(\n",
    "        \"\"\"\n",
    "        MATCH (p1:protein)\n",
    "        RETURN count(p1) as count\n",
    "        \"\"\"\n",
    "    ).value()\n",
    "\n",
    "print(f\"{x[0]} proteins in the database\")"
   ]
  },
  {
   "cell_type": "code",
   "execution_count": 3,
   "metadata": {},
   "outputs": [
    {
     "name": "stdout",
     "output_type": "stream",
     "text": [
      "25566 HMM non-redundant models in the database\n",
      "CPU times: user 2.63 ms, sys: 0 ns, total: 2.63 ms\n",
      "Wall time: 53.1 ms\n"
     ]
    }
   ],
   "source": [
    "%%time\n",
    "with GraphDriver() as db:\n",
    "    x= db.run(\n",
    "        \"\"\"\n",
    "        MATCH (p1:hmm)\n",
    "        RETURN count(p1) as count\n",
    "        \"\"\"\n",
    "    ).value()\n",
    "\n",
    "print(f\"{x[0]} HMM non-redundant models in the database\")"
   ]
  },
  {
   "cell_type": "code",
   "execution_count": 4,
   "metadata": {},
   "outputs": [
    {
     "name": "stdout",
     "output_type": "stream",
     "text": [
      "847850795 HMM annotations in the database\n",
      "CPU times: user 2.05 ms, sys: 30 µs, total: 2.08 ms\n",
      "Wall time: 51.4 ms\n"
     ]
    }
   ],
   "source": [
    "%%time\n",
    "with GraphDriver() as db:\n",
    "    x= db.run(\n",
    "        \"\"\"\n",
    "        MATCH ()-[r:ANNOTATES]->()\n",
    "        RETURN count(r) as count\n",
    "        \"\"\"\n",
    "    ).value()\n",
    "\n",
    "print(f\"{x[0]} HMM annotations in the database\")"
   ]
  },
  {
   "cell_type": "code",
   "execution_count": 5,
   "metadata": {},
   "outputs": [
    {
     "name": "stdout",
     "output_type": "stream",
     "text": [
      "57711961 proteins with no annotation\n",
      "CPU times: user 12.1 ms, sys: 610 µs, total: 12.8 ms\n",
      "Wall time: 12min 18s\n"
     ]
    }
   ],
   "source": [
    "%%time\n",
    "with GraphDriver() as db:\n",
    "    x= db.run(\n",
    "        \"\"\"\n",
    "        MATCH (p1:protein)\n",
    "        WHERE NOT (p1)<-[:ANNOTATES]-(:hmm)\n",
    "        RETURN count(p1) as count\n",
    "        \"\"\"\n",
    "    ).value()\n",
    "\n",
    "print(f\"{x[0]} proteins with no annotation\")"
   ]
  },
  {
   "cell_type": "code",
   "execution_count": 6,
   "metadata": {},
   "outputs": [
    {
     "name": "stdout",
     "output_type": "stream",
     "text": [
      "304330794 proteins with no annotation\n",
      "CPU times: user 2.01 ms, sys: 108 µs, total: 2.12 ms\n",
      "Wall time: 12.2 ms\n"
     ]
    }
   ],
   "source": [
    "%%time\n",
    "with GraphDriver() as db:\n",
    "    x= db.run(\n",
    "        \"\"\"\n",
    "        MATCH (p1:protein)\n",
    "        RETURN count(p1) as count\n",
    "        \"\"\"\n",
    "    ).value()\n",
    "\n",
    "print(f\"{x[0]} proteins with no annotation\")"
   ]
  },
  {
   "cell_type": "code",
   "execution_count": 11,
   "metadata": {},
   "outputs": [
    {
     "data": {
      "text/plain": [
       "81.04"
      ]
     },
     "execution_count": 11,
     "metadata": {},
     "output_type": "execute_result"
    }
   ],
   "source": [
    "round(100 - 57711961 / 304330794 * 100, 2)"
   ]
  },
  {
   "cell_type": "code",
   "execution_count": 2,
   "metadata": {},
   "outputs": [
    {
     "data": {
      "text/html": [
       "<pre style=\"white-space:pre;overflow-x:auto;line-height:normal;font-family:Menlo,'DejaVu Sans Mono',consolas,'Courier New',monospace\"><span style=\"color: #7fbfbf; text-decoration-color: #7fbfbf\">2024-06-27 18:19:19 </span><span style=\"color: #000080; text-decoration-color: #000080\">INFO    </span> Connected to Neo4j database at bolt:<span style=\"color: #800080; text-decoration-color: #800080\">//</span><span style=\"color: #ff00ff; text-decoration-color: #ff00ff\">localhost</span>:<span style=\"color: #008080; text-decoration-color: #008080; font-weight: bold\">7687</span>                                                          <a href=\"file:///home/chase/Documents/github/kwan_lab/socialgene/sgpy/socialgene/neo4j/neo4j.py\" target=\"_blank\"><span style=\"color: #7f7f7f; text-decoration-color: #7f7f7f\">neo4j.py</span></a><span style=\"color: #7f7f7f; text-decoration-color: #7f7f7f\">:</span><a href=\"file:///home/chase/Documents/github/kwan_lab/socialgene/sgpy/socialgene/neo4j/neo4j.py#61\" target=\"_blank\"><span style=\"color: #7f7f7f; text-decoration-color: #7f7f7f\">61</span></a>\n",
       "</pre>\n"
      ],
      "text/plain": [
       "\u001b[2;36m2024-06-27 18:19:19\u001b[0m\u001b[2;36m \u001b[0m\u001b[34mINFO    \u001b[0m Connected to Neo4j database at bolt:\u001b[35m/\u001b[0m\u001b[35m/\u001b[0m\u001b[95mlocalhost\u001b[0m:\u001b[1;36m7687\u001b[0m                                                          \u001b]8;id=6113;file:///home/chase/Documents/github/kwan_lab/socialgene/sgpy/socialgene/neo4j/neo4j.py\u001b\\\u001b[2mneo4j.py\u001b[0m\u001b]8;;\u001b\\\u001b[2m:\u001b[0m\u001b]8;id=52284;file:///home/chase/Documents/github/kwan_lab/socialgene/sgpy/socialgene/neo4j/neo4j.py#61\u001b\\\u001b[2m61\u001b[0m\u001b]8;;\u001b\\\n"
      ]
     },
     "metadata": {},
     "output_type": "display_data"
    },
    {
     "name": "stdout",
     "output_type": "stream",
     "text": [
      "241632003 proteins with Pfam annotation\n",
      "CPU times: user 17.7 ms, sys: 420 µs, total: 18.1 ms\n",
      "Wall time: 8min 34s\n"
     ]
    }
   ],
   "source": [
    "%%time\n",
    "with GraphDriver() as db:\n",
    "    x= db.run(\n",
    "        \"\"\"\n",
    "        MATCH (p1:protein)<-[:ANNOTATES]-(:hmm)-[:SOURCE_DB]->(:pfam)\n",
    "        RETURN count(distinct p1) as count\n",
    "        \"\"\"\n",
    "    ).value()\n",
    "\n",
    "print(f\"{x[0]} proteins with Pfam annotation\")"
   ]
  },
  {
   "cell_type": "code",
   "execution_count": 4,
   "metadata": {},
   "outputs": [
    {
     "data": {
      "text/plain": [
       "79.4"
      ]
     },
     "execution_count": 4,
     "metadata": {},
     "output_type": "execute_result"
    }
   ],
   "source": [
    "round(241632003 / 304330794 * 100, 2)"
   ]
  }
 ],
 "metadata": {
  "kernelspec": {
   "display_name": "py312",
   "language": "python",
   "name": "python3"
  },
  "language_info": {
   "codemirror_mode": {
    "name": "ipython",
    "version": 3
   },
   "file_extension": ".py",
   "mimetype": "text/x-python",
   "name": "python",
   "nbconvert_exporter": "python",
   "pygments_lexer": "ipython3",
   "version": "3.12.2"
  }
 },
 "nbformat": 4,
 "nbformat_minor": 2
}
