{
 "cells": [
  {
   "cell_type": "code",
   "execution_count": 32,
   "metadata": {},
   "outputs": [],
   "source": [
    "import pickle\n",
    "import pandas as pd\n",
    "from pathlib import Path\n",
    "import gzip\n",
    "from plotnine import *\n",
    "from socialgene.clustermap.serialize import SerializeToClustermap\n",
    "from socialgene.neo4j.neo4j import GraphDriver # grab the the neo4j connection\n",
    "from socialgene.config import env_vars\n",
    "env_vars[\"NEO4J_URI\"] = \"bolt://localhost:7687\"\n",
    "\n",
    "pickle_path ='/media/chase/80a5af81-07f9-454f-9801-3d305555e821/search_against_refseq_pickles/BGC0001979.pickle'\n",
    "json_path = 'clinker.json'"
   ]
  },
  {
   "cell_type": "code",
   "execution_count": 33,
   "metadata": {},
   "outputs": [],
   "source": [
    "# The pickle file is a serialized object that contains the search results from the SocialGene search engine results \n",
    "# from searching all of RefSeq for similar genetic regions to the BGC0000946 cluster.\n",
    "\n",
    "with open(pickle_path, 'rb') as f:\n",
    "    search_object = pickle.load(f)"
   ]
  },
  {
   "cell_type": "code",
   "execution_count": 34,
   "metadata": {},
   "outputs": [],
   "source": [
    "df = search_object.link_df\n",
    "df = df.groupby('target_gene_cluster').agg({'pident': ['mean', 'median', 'count']})\n",
    "df.columns = ['_'.join(col).strip() for col in df.columns.values]\n",
    "# df=df[df.pident_count == len(search_object.input_bgc.features)]\n"
   ]
  },
  {
   "cell_type": "code",
   "execution_count": 35,
   "metadata": {},
   "outputs": [],
   "source": [
    "temp = pd.merge(\n",
    "            search_object._compare_bgcs_by_jaccard_and_levenshtein(),\n",
    "            search_object._compare_bgcs_by_median_bitscore(),\n",
    "            left_on=\"query_gene_cluster\",\n",
    "            right_on=\"target_gene_cluster\",\n",
    "            how=\"inner\",\n",
    "        )"
   ]
  },
  {
   "cell_type": "code",
   "execution_count": 36,
   "metadata": {},
   "outputs": [],
   "source": [
    "df = pd.merge(df, temp, left_on='target_gene_cluster', right_on='query_gene_cluster_x', how='inner')\n",
    "df = df.drop(columns=['query_gene_cluster_x', 'target_gene_cluster_x', 'query_gene_cluster_y'])\n",
    "df.sort_values(by=[\"modscore\", \"score\"], ascending=False, inplace=True)\n",
    "df['query_bgc'] = search_object.input_bgc_id\n",
    "df = df[['query_bgc','target_gene_cluster_y', 'pident_mean', 'pident_median', 'pident_count', 'levenshtein_include_internal_nonortholog','levenshtein_only_orthologs', 'percent_of_query', 'jaccard', 'modscore','score']]\n",
    "df['target_nucleotide_sequence'] = df.target_gene_cluster_y.apply(lambda x: x.parent.external_id)\n",
    "df['target_assembly'] = df.target_gene_cluster_y.apply(lambda x: x.parent.parent.uid)"
   ]
  },
  {
   "cell_type": "code",
   "execution_count": 37,
   "metadata": {},
   "outputs": [
    {
     "data": {
      "text/html": [
       "<div>\n",
       "<style scoped>\n",
       "    .dataframe tbody tr th:only-of-type {\n",
       "        vertical-align: middle;\n",
       "    }\n",
       "\n",
       "    .dataframe tbody tr th {\n",
       "        vertical-align: top;\n",
       "    }\n",
       "\n",
       "    .dataframe thead th {\n",
       "        text-align: right;\n",
       "    }\n",
       "</style>\n",
       "<table border=\"1\" class=\"dataframe\">\n",
       "  <thead>\n",
       "    <tr style=\"text-align: right;\">\n",
       "      <th></th>\n",
       "      <th>query_bgc</th>\n",
       "      <th>target_gene_cluster_y</th>\n",
       "      <th>pident_mean</th>\n",
       "      <th>pident_median</th>\n",
       "      <th>pident_count</th>\n",
       "      <th>levenshtein_include_internal_nonortholog</th>\n",
       "      <th>levenshtein_only_orthologs</th>\n",
       "      <th>percent_of_query</th>\n",
       "      <th>jaccard</th>\n",
       "      <th>modscore</th>\n",
       "      <th>score</th>\n",
       "      <th>target_nucleotide_sequence</th>\n",
       "      <th>target_assembly</th>\n",
       "    </tr>\n",
       "  </thead>\n",
       "  <tbody>\n",
       "    <tr>\n",
       "      <th>14</th>\n",
       "      <td>BGC0001979</td>\n",
       "      <td>&lt;socialgene.base.molbio.GeneCluster object at ...</td>\n",
       "      <td>100.0</td>\n",
       "      <td>100.0</td>\n",
       "      <td>53</td>\n",
       "      <td>1.000000</td>\n",
       "      <td>1.000000</td>\n",
       "      <td>100</td>\n",
       "      <td>1.000000</td>\n",
       "      <td>3.000000</td>\n",
       "      <td>696.0</td>\n",
       "      <td>BGC0001979</td>\n",
       "      <td>BGC0001979</td>\n",
       "    </tr>\n",
       "    <tr>\n",
       "      <th>7</th>\n",
       "      <td>BGC0001979</td>\n",
       "      <td>&lt;socialgene.base.molbio.GeneCluster object at ...</td>\n",
       "      <td>79.360417</td>\n",
       "      <td>82.9</td>\n",
       "      <td>48</td>\n",
       "      <td>0.620690</td>\n",
       "      <td>0.754717</td>\n",
       "      <td>91</td>\n",
       "      <td>0.827586</td>\n",
       "      <td>2.275862</td>\n",
       "      <td>532.0</td>\n",
       "      <td>BGC0002141</td>\n",
       "      <td>BGC0002141</td>\n",
       "    </tr>\n",
       "    <tr>\n",
       "      <th>18</th>\n",
       "      <td>BGC0001979</td>\n",
       "      <td>&lt;socialgene.base.molbio.GeneCluster object at ...</td>\n",
       "      <td>44.409524</td>\n",
       "      <td>39.0</td>\n",
       "      <td>21</td>\n",
       "      <td>0.426471</td>\n",
       "      <td>0.490566</td>\n",
       "      <td>40</td>\n",
       "      <td>0.308824</td>\n",
       "      <td>0.723363</td>\n",
       "      <td>194.0</td>\n",
       "      <td>BGC0001409</td>\n",
       "      <td>BGC0001409</td>\n",
       "    </tr>\n",
       "    <tr>\n",
       "      <th>44</th>\n",
       "      <td>BGC0001979</td>\n",
       "      <td>&lt;socialgene.base.molbio.GeneCluster object at ...</td>\n",
       "      <td>45.552632</td>\n",
       "      <td>42.7</td>\n",
       "      <td>19</td>\n",
       "      <td>0.416667</td>\n",
       "      <td>0.528302</td>\n",
       "      <td>36</td>\n",
       "      <td>0.263889</td>\n",
       "      <td>0.661426</td>\n",
       "      <td>197.0</td>\n",
       "      <td>BGC0001061</td>\n",
       "      <td>BGC0001061</td>\n",
       "    </tr>\n",
       "    <tr>\n",
       "      <th>20</th>\n",
       "      <td>BGC0001979</td>\n",
       "      <td>&lt;socialgene.base.molbio.GeneCluster object at ...</td>\n",
       "      <td>50.255556</td>\n",
       "      <td>47.4</td>\n",
       "      <td>18</td>\n",
       "      <td>0.394366</td>\n",
       "      <td>0.603774</td>\n",
       "      <td>34</td>\n",
       "      <td>0.253521</td>\n",
       "      <td>0.580654</td>\n",
       "      <td>265.5</td>\n",
       "      <td>BGC0001568</td>\n",
       "      <td>BGC0001568</td>\n",
       "    </tr>\n",
       "  </tbody>\n",
       "</table>\n",
       "</div>"
      ],
      "text/plain": [
       "     query_bgc                              target_gene_cluster_y  \\\n",
       "14  BGC0001979  <socialgene.base.molbio.GeneCluster object at ...   \n",
       "7   BGC0001979  <socialgene.base.molbio.GeneCluster object at ...   \n",
       "18  BGC0001979  <socialgene.base.molbio.GeneCluster object at ...   \n",
       "44  BGC0001979  <socialgene.base.molbio.GeneCluster object at ...   \n",
       "20  BGC0001979  <socialgene.base.molbio.GeneCluster object at ...   \n",
       "\n",
       "    pident_mean  pident_median  pident_count  \\\n",
       "14        100.0          100.0            53   \n",
       "7     79.360417           82.9            48   \n",
       "18    44.409524           39.0            21   \n",
       "44    45.552632           42.7            19   \n",
       "20    50.255556           47.4            18   \n",
       "\n",
       "    levenshtein_include_internal_nonortholog  levenshtein_only_orthologs  \\\n",
       "14                                  1.000000                    1.000000   \n",
       "7                                   0.620690                    0.754717   \n",
       "18                                  0.426471                    0.490566   \n",
       "44                                  0.416667                    0.528302   \n",
       "20                                  0.394366                    0.603774   \n",
       "\n",
       "    percent_of_query   jaccard  modscore  score target_nucleotide_sequence  \\\n",
       "14               100  1.000000  3.000000  696.0                 BGC0001979   \n",
       "7                 91  0.827586  2.275862  532.0                 BGC0002141   \n",
       "18                40  0.308824  0.723363  194.0                 BGC0001409   \n",
       "44                36  0.263889  0.661426  197.0                 BGC0001061   \n",
       "20                34  0.253521  0.580654  265.5                 BGC0001568   \n",
       "\n",
       "   target_assembly  \n",
       "14      BGC0001979  \n",
       "7       BGC0002141  \n",
       "18      BGC0001409  \n",
       "44      BGC0001061  \n",
       "20      BGC0001568  "
      ]
     },
     "execution_count": 37,
     "metadata": {},
     "output_type": "execute_result"
    }
   ],
   "source": [
    "df[df.target_assembly.str.startswith('BGC')]"
   ]
  },
  {
   "cell_type": "code",
   "execution_count": 38,
   "metadata": {},
   "outputs": [
    {
     "data": {
      "text/html": [
       "<pre style=\"white-space:pre;overflow-x:auto;line-height:normal;font-family:Menlo,'DejaVu Sans Mono',consolas,'Courier New',monospace\"><span style=\"color: #7fbfbf; text-decoration-color: #7fbfbf\">2024-06-17 15:02:00 </span><span style=\"color: #000080; text-decoration-color: #000080\">INFO    </span> Writing clustermap.js output to: plot/data.json                                                          <a href=\"file:///home/chase/Documents/github/kwan_lab/socialgene/sgpy/socialgene/clustermap/serialize.py\" target=\"_blank\"><span style=\"color: #7f7f7f; text-decoration-color: #7f7f7f\">serialize.py</span></a><span style=\"color: #7f7f7f; text-decoration-color: #7f7f7f\">:</span><a href=\"file:///home/chase/Documents/github/kwan_lab/socialgene/sgpy/socialgene/clustermap/serialize.py#140\" target=\"_blank\"><span style=\"color: #7f7f7f; text-decoration-color: #7f7f7f\">140</span></a>\n",
       "</pre>\n"
      ],
      "text/plain": [
       "\u001b[2;36m2024-06-17 15:02:00\u001b[0m\u001b[2;36m \u001b[0m\u001b[34mINFO    \u001b[0m Writing clustermap.js output to: plot/data.json                                                          \u001b]8;id=406228;file:///home/chase/Documents/github/kwan_lab/socialgene/sgpy/socialgene/clustermap/serialize.py\u001b\\\u001b[2mserialize.py\u001b[0m\u001b]8;;\u001b\\\u001b[2m:\u001b[0m\u001b]8;id=406311;file:///home/chase/Documents/github/kwan_lab/socialgene/sgpy/socialgene/clustermap/serialize.py#140\u001b\\\u001b[2m140\u001b[0m\u001b]8;;\u001b\\\n"
      ]
     },
     "metadata": {},
     "output_type": "display_data"
    },
    {
     "data": {
      "text/html": [
       "<pre style=\"white-space:pre;overflow-x:auto;line-height:normal;font-family:Menlo,'DejaVu Sans Mono',consolas,'Courier New',monospace\"><span style=\"color: #7fbfbf; text-decoration-color: #7fbfbf\">                    </span><span style=\"color: #000080; text-decoration-color: #000080\">INFO    </span> Creating clustermap.js clusters                                                                           <a href=\"file:///home/chase/Documents/github/kwan_lab/socialgene/sgpy/socialgene/clustermap/serialize.py\" target=\"_blank\"><span style=\"color: #7f7f7f; text-decoration-color: #7f7f7f\">serialize.py</span></a><span style=\"color: #7f7f7f; text-decoration-color: #7f7f7f\">:</span><a href=\"file:///home/chase/Documents/github/kwan_lab/socialgene/sgpy/socialgene/clustermap/serialize.py#40\" target=\"_blank\"><span style=\"color: #7f7f7f; text-decoration-color: #7f7f7f\">40</span></a>\n",
       "</pre>\n"
      ],
      "text/plain": [
       "\u001b[2;36m                   \u001b[0m\u001b[2;36m \u001b[0m\u001b[34mINFO    \u001b[0m Creating clustermap.js clusters                                                                           \u001b]8;id=410646;file:///home/chase/Documents/github/kwan_lab/socialgene/sgpy/socialgene/clustermap/serialize.py\u001b\\\u001b[2mserialize.py\u001b[0m\u001b]8;;\u001b\\\u001b[2m:\u001b[0m\u001b]8;id=607681;file:///home/chase/Documents/github/kwan_lab/socialgene/sgpy/socialgene/clustermap/serialize.py#40\u001b\\\u001b[2m40\u001b[0m\u001b]8;;\u001b\\\n"
      ]
     },
     "metadata": {},
     "output_type": "display_data"
    },
    {
     "data": {
      "text/html": [
       "<pre style=\"white-space:pre;overflow-x:auto;line-height:normal;font-family:Menlo,'DejaVu Sans Mono',consolas,'Courier New',monospace\"><span style=\"color: #7fbfbf; text-decoration-color: #7fbfbf\">                    </span><span style=\"color: #000080; text-decoration-color: #000080\">INFO    </span> Creating clustermap.js links                                                                             <a href=\"file:///home/chase/Documents/github/kwan_lab/socialgene/sgpy/socialgene/clustermap/serialize.py\" target=\"_blank\"><span style=\"color: #7f7f7f; text-decoration-color: #7f7f7f\">serialize.py</span></a><span style=\"color: #7f7f7f; text-decoration-color: #7f7f7f\">:</span><a href=\"file:///home/chase/Documents/github/kwan_lab/socialgene/sgpy/socialgene/clustermap/serialize.py#117\" target=\"_blank\"><span style=\"color: #7f7f7f; text-decoration-color: #7f7f7f\">117</span></a>\n",
       "</pre>\n"
      ],
      "text/plain": [
       "\u001b[2;36m                   \u001b[0m\u001b[2;36m \u001b[0m\u001b[34mINFO    \u001b[0m Creating clustermap.js links                                                                             \u001b]8;id=52342;file:///home/chase/Documents/github/kwan_lab/socialgene/sgpy/socialgene/clustermap/serialize.py\u001b\\\u001b[2mserialize.py\u001b[0m\u001b]8;;\u001b\\\u001b[2m:\u001b[0m\u001b]8;id=396392;file:///home/chase/Documents/github/kwan_lab/socialgene/sgpy/socialgene/clustermap/serialize.py#117\u001b\\\u001b[2m117\u001b[0m\u001b]8;;\u001b\\\n"
      ]
     },
     "metadata": {},
     "output_type": "display_data"
    },
    {
     "data": {
      "text/html": [
       "<pre style=\"white-space:pre;overflow-x:auto;line-height:normal;font-family:Menlo,'DejaVu Sans Mono',consolas,'Courier New',monospace\"><span style=\"color: #7fbfbf; text-decoration-color: #7fbfbf\">                    </span><span style=\"color: #000080; text-decoration-color: #000080\">INFO    </span> Creating clustermap.js links                                                                              <a href=\"file:///home/chase/Documents/github/kwan_lab/socialgene/sgpy/socialgene/clustermap/serialize.py\" target=\"_blank\"><span style=\"color: #7f7f7f; text-decoration-color: #7f7f7f\">serialize.py</span></a><span style=\"color: #7f7f7f; text-decoration-color: #7f7f7f\">:</span><a href=\"file:///home/chase/Documents/github/kwan_lab/socialgene/sgpy/socialgene/clustermap/serialize.py#92\" target=\"_blank\"><span style=\"color: #7f7f7f; text-decoration-color: #7f7f7f\">92</span></a>\n",
       "</pre>\n"
      ],
      "text/plain": [
       "\u001b[2;36m                   \u001b[0m\u001b[2;36m \u001b[0m\u001b[34mINFO    \u001b[0m Creating clustermap.js links                                                                              \u001b]8;id=931457;file:///home/chase/Documents/github/kwan_lab/socialgene/sgpy/socialgene/clustermap/serialize.py\u001b\\\u001b[2mserialize.py\u001b[0m\u001b]8;;\u001b\\\u001b[2m:\u001b[0m\u001b]8;id=422907;file:///home/chase/Documents/github/kwan_lab/socialgene/sgpy/socialgene/clustermap/serialize.py#92\u001b\\\u001b[2m92\u001b[0m\u001b]8;;\u001b\\\n"
      ]
     },
     "metadata": {},
     "output_type": "display_data"
    }
   ],
   "source": [
    "\n",
    "temp=df.sort_values(by=[\"pident_median\"], ascending=False, inplace=False)\n",
    "assemblies = [search_object.input_assembly] + [i.parent.parent for i  in temp.target_gene_cluster_y.to_list()]\n",
    "zz = SerializeToClustermap(\n",
    "    sg_object=search_object.sg_object,\n",
    "    sorted_bgcs=assemblies,\n",
    "    link_df=search_object.link_df,\n",
    "    group_df=search_object.group_df,\n",
    ")\n",
    "zz.write(Path('./plot/data.json'))"
   ]
  }
 ],
 "metadata": {
  "kernelspec": {
   "display_name": "py312",
   "language": "python",
   "name": "python3"
  },
  "language_info": {
   "codemirror_mode": {
    "name": "ipython",
    "version": 3
   },
   "file_extension": ".py",
   "mimetype": "text/x-python",
   "name": "python",
   "nbconvert_exporter": "python",
   "pygments_lexer": "ipython3",
   "version": "3.12.2"
  }
 },
 "nbformat": 4,
 "nbformat_minor": 2
}
