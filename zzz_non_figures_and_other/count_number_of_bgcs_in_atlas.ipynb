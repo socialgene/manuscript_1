{
 "cells": [
  {
   "cell_type": "code",
   "execution_count": 1,
   "metadata": {},
   "outputs": [
    {
     "name": "stdout",
     "output_type": "stream",
     "text": [
      "Finished 2112 files\r"
     ]
    }
   ],
   "source": [
    "import json\n",
    "from pathlib import Path\n",
    "json_path=Path(\"/home/chase/Documents/manuscripts/socialgene/manuscript_1_data/sg_search_culture_collections/clustermap/jsons\").glob(\"*.json\")\n",
    "\n",
    "total_bgcs = 0\n",
    "finshed=0\n",
    "for i in json_path:\n",
    "    with open(i, 'r') as f:\n",
    "        # minus 1 removes the query bgc\n",
    "        total_bgcs += len(json.load(f)['clusters']) - 1\n",
    "        finshed += 1\n",
    "        print(f\"Finished {finshed} files\", end='\\r') "
   ]
  },
  {
   "cell_type": "code",
   "execution_count": 2,
   "metadata": {},
   "outputs": [
    {
     "data": {
      "text/plain": [
       "2112"
      ]
     },
     "execution_count": 2,
     "metadata": {},
     "output_type": "execute_result"
    }
   ],
   "source": [
    "finshed"
   ]
  },
  {
   "cell_type": "code",
   "execution_count": 3,
   "metadata": {},
   "outputs": [
    {
     "data": {
      "text/plain": [
       "92936"
      ]
     },
     "execution_count": 3,
     "metadata": {},
     "output_type": "execute_result"
    }
   ],
   "source": [
    "total_bgcs"
   ]
  }
 ],
 "metadata": {
  "kernelspec": {
   "display_name": "py312",
   "language": "python",
   "name": "python3"
  },
  "language_info": {
   "codemirror_mode": {
    "name": "ipython",
    "version": 3
   },
   "file_extension": ".py",
   "mimetype": "text/x-python",
   "name": "python",
   "nbconvert_exporter": "python",
   "pygments_lexer": "ipython3",
   "version": "3.12.2"
  }
 },
 "nbformat": 4,
 "nbformat_minor": 2
}
